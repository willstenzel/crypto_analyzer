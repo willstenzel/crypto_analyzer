{
 "cells": [
  {
   "cell_type": "code",
   "execution_count": null,
   "metadata": {},
   "outputs": [],
   "source": [
    "import pandas as pd\n",
    "import matplotlib.pyplot as plt\n",
    "path_in = '/Users/stenzel/Documents/EECE2300/cryptoanalyzer/cryptoanalyzer/data/raw/Bittrex_BTCUSD_1h.csv'\n",
    "\n",
    "sample_data = pd.read_csv(path_in, skiprows=1)"
   ]
  },
  {
   "cell_type": "code",
   "execution_count": null,
   "metadata": {},
   "outputs": [],
   "source": [
    "sample_data.plot(kind=\"line\", y=\"Close\")"
   ]
  }
 ],
 "metadata": {},
 "nbformat": 4,
 "nbformat_minor": 0
}
